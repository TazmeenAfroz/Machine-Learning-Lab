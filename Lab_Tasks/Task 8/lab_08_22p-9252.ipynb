{
 "cells": [
  {
   "cell_type": "markdown",
   "metadata": {},
   "source": [
    "### Tazmeen Afroz \n",
    "### Roll No : 22P-9252\n",
    "### LAB-09"
   ]
  },
  {
   "cell_type": "markdown",
   "metadata": {},
   "source": [
    "#### Implementation of Gradient Descent"
   ]
  },
  {
   "cell_type": "markdown",
   "metadata": {},
   "source": [
    "#### cost function"
   ]
  },
  {
   "cell_type": "code",
   "execution_count": 1,
   "metadata": {},
   "outputs": [],
   "source": [
    "import numpy as np \n",
    "\n",
    "#Function to calculate the cost\n",
    "def compute_cost(x, y, w, b):\n",
    "   \n",
    "    m = x.shape[0] \n",
    "    cost = 0\n",
    "    \n",
    "    for i in range(m):\n",
    "        f_wb = w * x[i] + b\n",
    "        cost = cost + (f_wb - y[i])**2\n",
    "    total_cost = 1 / (2 * m) * cost\n",
    "\n",
    "    return total_cost\n",
    "    "
   ]
  },
  {
   "cell_type": "markdown",
   "metadata": {},
   "source": [
    "##### minimize cost function for single iteration"
   ]
  },
  {
   "cell_type": "code",
   "execution_count": 2,
   "metadata": {},
   "outputs": [
    {
     "name": "stdout",
     "output_type": "stream",
     "text": [
      "[120 220 320 420 520]\n",
      "Cost before update:  58902.0\n",
      "Cost after update:  1978.3600000000058\n",
      "Updated w:  -13.800000000000026\n",
      "Updated b:  -11.400000000000006\n"
     ]
    }
   ],
   "source": [
    "# first iteration \n",
    "x = np.array([1, 2, 3, 4, 5])\n",
    "y = np.array([2, 4, 6, 8, 10])\n",
    "\n",
    "w = 100\n",
    "b = 20\n",
    "alpha = 0.1\n",
    "m = x.shape[0]\n",
    "\n",
    "f_wb = w * x + b\n",
    "print(f_wb)\n",
    "\n",
    "\n",
    "temp_w = w - alpha * (1 / m) * np.sum((f_wb - y) * x)\n",
    "\n",
    "temp_b = b - alpha * (1 / m) * np.sum(f_wb - y)\n",
    "\n",
    "\n",
    "print(\"Cost before update: \", compute_cost(x, y, w, b))\n",
    "\n",
    "print(\"Cost after update: \", compute_cost(x, y, temp_w, temp_b))\n",
    "\n",
    "print(\"Updated w: \", temp_w)\n",
    "\n",
    "print(\"Updated b: \", temp_b)\n",
    "\n"
   ]
  },
  {
   "cell_type": "markdown",
   "metadata": {},
   "source": [
    "### for n iterations"
   ]
  },
  {
   "cell_type": "code",
   "execution_count": 3,
   "metadata": {},
   "outputs": [
    {
     "name": "stdout",
     "output_type": "stream",
     "text": [
      "Cost after update:  69.93520000000046\n",
      "Cost after update:  5.836336000000027\n",
      "Cost after update:  3.57043552\n",
      "Cost after update:  3.3813382335999993\n",
      "Cost after update:  3.2656561227519996\n",
      "Updated w:  3.6628\n",
      "Updated b:  -5.989152\n",
      "Cost after update:  3.2656561227519996\n",
      "Number of iterations:  4\n"
     ]
    }
   ],
   "source": [
    "# for many iterations \n",
    "\n",
    "for i in range(m):\n",
    "    w = temp_w\n",
    "    b = temp_b\n",
    "    f_wb = w * x + b\n",
    "    temp_w = w - alpha * (1 / m) * np.sum((f_wb - y) * x)\n",
    "    temp_b = b - alpha * (1 / m) * np.sum(f_wb - y)\n",
    "    print(\"Cost after update: \", compute_cost(x, y, temp_w, temp_b))\n",
    "    if compute_cost(x, y, temp_w, temp_b) == 0:\n",
    "        break\n",
    "print(\"Updated w: \", temp_w)\n",
    "\n",
    "print(\"Updated b: \", temp_b)\n",
    "\n",
    "print(\"Cost after update: \", compute_cost(x, y, temp_w, temp_b))\n",
    "\n",
    "print(\"Number of iterations: \", i)\n",
    "\n"
   ]
  },
  {
   "cell_type": "markdown",
   "metadata": {},
   "source": [
    "#### finding optimal value of w and b over n iterations"
   ]
  },
  {
   "cell_type": "code",
   "execution_count": 5,
   "metadata": {},
   "outputs": [
    {
     "name": "stdout",
     "output_type": "stream",
     "text": [
      "Cost after update:  3.050293505606195\n",
      "Cost after update:  2.948035840853135\n",
      "Cost after update:  2.849206331271493\n",
      "Cost after update:  2.753689970027852\n",
      "Cost after update:  2.6613756848946557\n",
      "Updated w:  3.497842642048\n",
      "Updated b:  -5.40768667008\n",
      "Cost after update:  2.6613756848946557\n",
      "Number of iterations:  4\n",
      "Minimum cost:  2.6613756848946557\n",
      "Optimal w:  3.497842642048\n",
      "Optimal b:  -5.40768667008\n"
     ]
    }
   ],
   "source": [
    "import numpy as np\n",
    "\n",
    "\n",
    "cost_threshold =  4  \n",
    "min_cost = float('inf') \n",
    "\n",
    "for i in range(m):\n",
    "    w = temp_w\n",
    "    b = temp_b\n",
    "    f_wb = w * x + b\n",
    "    temp_w = w - alpha * (1 / m) * np.sum((f_wb - y) * x)\n",
    "    temp_b = b - alpha * (1 / m) * np.sum(f_wb - y)\n",
    "    \n",
    "    current_cost = compute_cost(x, y, temp_w, temp_b)\n",
    "    print(\"Cost after update: \", current_cost)\n",
    "    \n",
    "    if current_cost < min_cost:\n",
    "        min_cost = current_cost\n",
    "        optimal_w = temp_w\n",
    "        optimal_b = temp_b\n",
    "        \n",
    " \n",
    "    \n",
    "    if current_cost == 0 or current_cost > cost_threshold:\n",
    "        break\n",
    "\n",
    "print(\"Updated w: \", temp_w)\n",
    "print(\"Updated b: \", temp_b)\n",
    "print(\"Cost after update: \", compute_cost(x, y, temp_w, temp_b))\n",
    "print(\"Number of iterations: \", i)\n",
    "print(\"Minimum cost: \", min_cost)\n",
    "print(\"Optimal w: \", optimal_w)\n",
    "print(\"Optimal b: \",optimal_b) "
   ]
  },
  {
   "cell_type": "code",
   "execution_count": null,
   "metadata": {},
   "outputs": [],
   "source": []
  }
 ],
 "metadata": {
  "kernelspec": {
   "display_name": "base",
   "language": "python",
   "name": "python3"
  },
  "language_info": {
   "codemirror_mode": {
    "name": "ipython",
    "version": 3
   },
   "file_extension": ".py",
   "mimetype": "text/x-python",
   "name": "python",
   "nbconvert_exporter": "python",
   "pygments_lexer": "ipython3",
   "version": "3.12.4"
  }
 },
 "nbformat": 4,
 "nbformat_minor": 2
}
