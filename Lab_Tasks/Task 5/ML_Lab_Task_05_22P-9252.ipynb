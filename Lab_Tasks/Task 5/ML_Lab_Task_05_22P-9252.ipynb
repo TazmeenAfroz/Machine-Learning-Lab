{
 "cells": [
  {
   "cell_type": "code",
   "execution_count": 9,
   "metadata": {},
   "outputs": [
    {
     "name": "stdout",
     "output_type": "stream",
     "text": [
      "Linear Regression predictions (first 5): [14.7  25.14 35.61 35.34 23.8 ]\n",
      "Linear Regression RMSE: 3.062376431024096\n",
      "Linear Regression predictions (first 5): [14.7  25.14 35.61 35.34 23.8 ]\n",
      "Linear Regression RMSE: 3.062376431024096\n"
     ]
    }
   ],
   "source": [
    "import numpy as np\n",
    "import pandas as pd\n",
    "from sklearn.model_selection import train_test_split, cross_val_score, GridSearchCV\n",
    "from sklearn.base import BaseEstimator, TransformerMixin\n",
    "from sklearn.impute import SimpleImputer\n",
    "from sklearn.preprocessing import StandardScaler, FunctionTransformer\n",
    "from sklearn.compose import ColumnTransformer\n",
    "from sklearn.pipeline import Pipeline, make_pipeline\n",
    "from sklearn.cluster import KMeans\n",
    "from sklearn.metrics.pairwise import rbf_kernel\n",
    "from sklearn.linear_model import LinearRegression\n",
    "from sklearn.tree import DecisionTreeRegressor\n",
    "from sklearn.ensemble import RandomForestRegressor\n",
    "from sklearn.metrics import mean_squared_error\n",
    "\n",
    "# Load the auto mpg dataset\n",
    "url = \"https://archive.ics.uci.edu/ml/machine-learning-databases/auto-mpg/auto-mpg.data\"\n",
    "column_names = [\"mpg\", \"cylinders\", \"displacement\", \"horsepower\", \"weight\", \"acceleration\", \"model_year\", \"origin\", \"name\"]\n",
    "df = pd.read_csv(url, names=column_names, na_values=\"?\", comment=\"\\t\", sep=\" \", skipinitialspace=True)\n",
    "df = df.drop(\"name\", axis=1)\n",
    "\n",
    "# Split features and target\n",
    "X = df.drop(\"mpg\", axis=1)\n",
    "y = df[\"mpg\"]\n",
    "\n",
    "# Split the data into train and test sets\n",
    "X_train, X_test, y_train, y_test = train_test_split(X, y, test_size=0.2, random_state=42)\n",
    "\n",
    "# Custom StandardScalerClone\n",
    "class StandardScalerClone(BaseEstimator, TransformerMixin):\n",
    "    def __init__(self, with_mean=True):\n",
    "        self.with_mean = with_mean\n",
    "\n",
    "    def fit(self, X, y=None):\n",
    "        self.mean_ = X.mean(axis=0)\n",
    "        self.scale_ = X.std(axis=0)\n",
    "        return self\n",
    "\n",
    "    def transform(self, X):\n",
    "        X_scaled = X.copy()\n",
    "        if self.with_mean:\n",
    "            X_scaled -= self.mean_\n",
    "        return X_scaled / self.scale_\n",
    "\n",
    "# ClusterSimilarity transformer\n",
    "class ClusterSimilarity(BaseEstimator, TransformerMixin):\n",
    "    def __init__(self, n_clusters=10, gamma=1., random_state=None):\n",
    "        self.n_clusters = n_clusters\n",
    "        self.gamma = gamma\n",
    "        self.random_state = random_state\n",
    "\n",
    "    def fit(self, X, y=None):\n",
    "        self.kmeans_ = KMeans(n_clusters=self.n_clusters, random_state=self.random_state)\n",
    "        self.kmeans_.fit(X)\n",
    "        return self\n",
    "\n",
    "    def transform(self, X):\n",
    "        return rbf_kernel(X, self.kmeans_.cluster_centers_, gamma=self.gamma)\n",
    "\n",
    "# Helper functions\n",
    "def column_ratio(X):\n",
    "    return X[:, [0]] / X[:, [1]]\n",
    "\n",
    "def ratio_pipeline(name=None):\n",
    "    return make_pipeline(\n",
    "        SimpleImputer(strategy=\"median\"),\n",
    "        FunctionTransformer(column_ratio, feature_names_out=lambda input_features: [name]),\n",
    "        StandardScalerClone()\n",
    "    )\n",
    "# Preprocessing pipelines\n",
    "log_pipeline = make_pipeline(\n",
    "    SimpleImputer(strategy=\"median\"),  # Ensure missing values are imputed\n",
    "    FunctionTransformer(np.log),\n",
    "    StandardScalerClone()\n",
    ")\n",
    "\n",
    "default_num_pipeline = make_pipeline(\n",
    "    SimpleImputer(strategy=\"median\"),  # Ensure missing values are imputed\n",
    "    StandardScalerClone()\n",
    ")\n",
    "\n",
    "cat_pipeline = make_pipeline(\n",
    "    SimpleImputer(strategy=\"most_frequent\")  # Ensure missing values are imputed\n",
    ")\n",
    "\n",
    "geo_pipeline = make_pipeline(\n",
    "    SimpleImputer(strategy=\"median\"),  # Ensure missing values are imputed\n",
    "    ClusterSimilarity(n_clusters=10, gamma=1., random_state=42)\n",
    ")\n",
    "\n",
    "# Main preprocessing pipeline\n",
    "preprocessing = ColumnTransformer([\n",
    "    (\"horsepower_weight_ratio\", ratio_pipeline(\"horsepower_weight_ratio\"), [\"horsepower\", \"weight\"]),\n",
    "    (\"displacement_weight_ratio\", ratio_pipeline(\"displacement_weight_ratio\"), [\"displacement\", \"weight\"]),\n",
    "    (\"log\", log_pipeline, [\"horsepower\", \"weight\", \"displacement\", \"acceleration\"]),\n",
    "    (\"geo\", geo_pipeline, [\"horsepower\", \"weight\"]),  # Use the updated geo pipeline\n",
    "    (\"cat\", cat_pipeline, [\"cylinders\", \"model_year\", \"origin\"]),\n",
    "],\n",
    "remainder=default_num_pipeline)\n",
    "\n",
    "# Linear Regression\n",
    "lin_reg = make_pipeline(preprocessing, LinearRegression())\n",
    "lin_reg.fit(X_train, y_train)\n",
    "auto_predictions = lin_reg.predict(X_train)\n",
    "print(\"Linear Regression predictions (first 5):\", auto_predictions[:5].round(2))\n",
    "lin_rmse = np.sqrt(mean_squared_error(y_train, auto_predictions))\n",
    "print(\"Linear Regression RMSE:\", lin_rmse)\n",
    "\n",
    "\n",
    "\n"
   ]
  },
  {
   "cell_type": "code",
   "execution_count": 11,
   "metadata": {},
   "outputs": [
    {
     "name": "stdout",
     "output_type": "stream",
     "text": [
      "Decision Tree predictions (first 5): [16.  27.  37.  36.1 23. ]\n",
      "Decision Tree RMSE: 0.0\n"
     ]
    }
   ],
   "source": [
    "from sklearn.tree import DecisionTreeRegressor\n",
    "tree_reg = make_pipeline(preprocessing,\n",
    "DecisionTreeRegressor(random_state=42))\n",
    "tree_reg.fit(X_train, y_train)\n",
    "auto_predictions = tree_reg.predict(X_train)\n",
    "print(\"Decision Tree predictions (first 5):\", auto_predictions[:5].round(2))\n",
    "\n",
    "tree_rmse = np.sqrt(mean_squared_error(y_train, auto_predictions))\n",
    "print(\"Decision Tree RMSE:\", tree_rmse)\n",
    "\n"
   ]
  },
  {
   "cell_type": "code",
   "execution_count": 14,
   "metadata": {},
   "outputs": [
    {
     "data": {
      "text/plain": [
       "count    10.000000\n",
       "mean      4.119293\n",
       "std       0.501744\n",
       "min       3.440703\n",
       "25%       3.786239\n",
       "50%       4.127104\n",
       "75%       4.320897\n",
       "max       5.038818\n",
       "dtype: float64"
      ]
     },
     "execution_count": 14,
     "metadata": {},
     "output_type": "execute_result"
    }
   ],
   "source": [
    "from sklearn.model_selection import cross_val_score\n",
    "tree_rmses = -cross_val_score(tree_reg, X_train, y_train, scoring=\"neg_root_mean_squared_error\", cv=10)\n",
    "pd.Series(tree_rmses).describe()"
   ]
  },
  {
   "cell_type": "code",
   "execution_count": 15,
   "metadata": {},
   "outputs": [
    {
     "data": {
      "text/plain": [
       "count    10.000000\n",
       "mean      2.967987\n",
       "std       0.559933\n",
       "min       2.108097\n",
       "25%       2.549907\n",
       "50%       2.940715\n",
       "75%       3.350417\n",
       "max       3.940770\n",
       "dtype: float64"
      ]
     },
     "execution_count": 15,
     "metadata": {},
     "output_type": "execute_result"
    }
   ],
   "source": [
    "from sklearn.ensemble import RandomForestRegressor\n",
    "forest_reg = make_pipeline(preprocessing,\n",
    "RandomForestRegressor(random_state=42))\n",
    "forest_rmses = -cross_val_score(forest_reg, X_train, y_train, scoring=\"neg_root_mean_squared_error\", cv=10)\n",
    "pd.Series(forest_rmses).describe()"
   ]
  },
  {
   "cell_type": "code",
   "execution_count": 18,
   "metadata": {},
   "outputs": [
    {
     "name": "stdout",
     "output_type": "stream",
     "text": [
      "Best parameters: {'preprocessing__geo__clustersimilarity__n_clusters': 10, 'random_forest__max_features': 8}\n",
      "Best RMSE: 3.074865394018532\n",
      "Final model RMSE on test set: 2.118761979317167\n"
     ]
    },
    {
     "name": "stderr",
     "output_type": "stream",
     "text": [
      "/home/tazmeen/anaconda3/lib/python3.12/site-packages/numpy/ma/core.py:2820: RuntimeWarning: invalid value encountered in cast\n",
      "  _data = np.array(data, dtype=dtype, copy=copy,\n"
     ]
    }
   ],
   "source": [
    "from sklearn.model_selection import GridSearchCV\n",
    "full_pipeline = Pipeline([\n",
    "\n",
    "(\"preprocessing\", preprocessing),\n",
    "(\"random_forest\", RandomForestRegressor(random_state=42)),\n",
    "])\n",
    "\n",
    "param_grid = [\n",
    "    {'preprocessing__geo__clustersimilarity__n_clusters': [5, 8, 10],\n",
    "     'random_forest__max_features': [4, 6, 8]},\n",
    "    {'preprocessing__geo__clustersimilarity__n_clusters': [10, 15],\n",
    "     'random_forest__max_features': [6, 8, 10]},\n",
    "]\n",
    "\n",
    "grid_search = GridSearchCV(full_pipeline, param_grid, cv=3,\n",
    "                           scoring='neg_root_mean_squared_error')\n",
    "grid_search.fit(X_train, y_train)\n",
    "\n",
    "print(\"Best parameters:\", grid_search.best_params_)\n",
    "print(\"Best RMSE:\", -grid_search.best_score_)\n",
    "\n",
    "# Evaluate the best model on the test set\n",
    "final_model = grid_search.best_estimator_\n",
    "final_predictions = final_model.predict(X_test)\n",
    "final_rmse = np.sqrt(mean_squared_error(y_test, final_predictions))\n",
    "print(\"Final model RMSE on test set:\", final_rmse)"
   ]
  },
  {
   "cell_type": "code",
   "execution_count": null,
   "metadata": {},
   "outputs": [],
   "source": []
  }
 ],
 "metadata": {
  "kernelspec": {
   "display_name": "base",
   "language": "python",
   "name": "python3"
  },
  "language_info": {
   "codemirror_mode": {
    "name": "ipython",
    "version": 3
   },
   "file_extension": ".py",
   "mimetype": "text/x-python",
   "name": "python",
   "nbconvert_exporter": "python",
   "pygments_lexer": "ipython3",
   "version": "3.12.4"
  }
 },
 "nbformat": 4,
 "nbformat_minor": 2
}
